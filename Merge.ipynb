{
 "cells": [
  {
   "cell_type": "code",
   "execution_count": 73,
   "metadata": {
    "collapsed": true
   },
   "outputs": [],
   "source": [
    "import pandas as pd\n",
    "import numpy as np"
   ]
  },
  {
   "cell_type": "code",
   "execution_count": 74,
   "metadata": {
    "collapsed": true
   },
   "outputs": [],
   "source": [
    "teamID = pd.read_csv('TeamIDPerfect.csv')"
   ]
  },
  {
   "cell_type": "code",
   "execution_count": 75,
   "metadata": {
    "collapsed": true
   },
   "outputs": [],
   "source": [
    "mmStats = pd.read_csv('TotalmmStats.csv')"
   ]
  },
  {
   "cell_type": "code",
   "execution_count": 76,
   "metadata": {
    "collapsed": true
   },
   "outputs": [],
   "source": [
    "merged = pd.merge(RatingStats, teamID, left_on=['School'], right_on=['team_name'], how='outer')"
   ]
  },
  {
   "cell_type": "code",
   "execution_count": 77,
   "metadata": {
    "collapsed": true
   },
   "outputs": [],
   "source": [
    "merged.to_csv('RatingStatsFinal.csv')"
   ]
  },
  {
   "cell_type": "code",
   "execution_count": null,
   "metadata": {
    "collapsed": true
   },
   "outputs": [],
   "source": []
  },
  {
   "cell_type": "code",
   "execution_count": null,
   "metadata": {
    "collapsed": true
   },
   "outputs": [],
   "source": []
  },
  {
   "cell_type": "code",
   "execution_count": 60,
   "metadata": {
    "collapsed": true
   },
   "outputs": [],
   "source": [
    "mergedata = pd.read_csv('mergedV2.csv')"
   ]
  },
  {
   "cell_type": "code",
   "execution_count": 61,
   "metadata": {
    "collapsed": true
   },
   "outputs": [],
   "source": [
    "RatingStats = pd.read_csv('TeamIDV2.csv')"
   ]
  },
  {
   "cell_type": "code",
   "execution_count": 62,
   "metadata": {},
   "outputs": [
    {
     "data": {
      "text/plain": [
       "Index(['Unnamed: 0', 'game_id', 'team2_teamname', 'Season', 'team1_teamname',\n",
       "       'team1_id', 'team1_Conf', 'team1_W', 'team1_L', 'team1_Pts',\n",
       "       ...\n",
       "       'team2_pt_school_ff', 'team2_pt_school_ncaa', 'team2_pt_school_s16',\n",
       "       'team2_pt_team_season_losses', 'team2_pt_team_season_wins',\n",
       "       'team2_rpi_rating', 'team2_score', 'team2_seed.1', 'team2_stlrate',\n",
       "       'team2_tempo'],\n",
       "      dtype='object', length=133)"
      ]
     },
     "execution_count": 62,
     "metadata": {},
     "output_type": "execute_result"
    }
   ],
   "source": [
    "mergedata.columns"
   ]
  },
  {
   "cell_type": "code",
   "execution_count": 63,
   "metadata": {
    "collapsed": true
   },
   "outputs": [],
   "source": [
    "merged = pd.merge(mergedata, RatingStats, left_on=['Season','team2_id'], right_on=['Season','team2_id'], how='outer')"
   ]
  },
  {
   "cell_type": "code",
   "execution_count": 64,
   "metadata": {},
   "outputs": [
    {
     "data": {
      "text/html": [
       "<div>\n",
       "<style>\n",
       "    .dataframe thead tr:only-child th {\n",
       "        text-align: right;\n",
       "    }\n",
       "\n",
       "    .dataframe thead th {\n",
       "        text-align: left;\n",
       "    }\n",
       "\n",
       "    .dataframe tbody tr th {\n",
       "        vertical-align: top;\n",
       "    }\n",
       "</style>\n",
       "<table border=\"1\" class=\"dataframe\">\n",
       "  <thead>\n",
       "    <tr style=\"text-align: right;\">\n",
       "      <th></th>\n",
       "      <th>Unnamed: 0_x</th>\n",
       "      <th>game_id</th>\n",
       "      <th>team2_teamname</th>\n",
       "      <th>Season</th>\n",
       "      <th>team1_teamname</th>\n",
       "      <th>team1_id</th>\n",
       "      <th>team1_Conf</th>\n",
       "      <th>team1_W</th>\n",
       "      <th>team1_L</th>\n",
       "      <th>team1_Pts</th>\n",
       "      <th>...</th>\n",
       "      <th>team2_Conf</th>\n",
       "      <th>team2_W</th>\n",
       "      <th>team2_L</th>\n",
       "      <th>team2_Pts</th>\n",
       "      <th>team2_Opp</th>\n",
       "      <th>team2_MOV</th>\n",
       "      <th>team2_SOS</th>\n",
       "      <th>team2__OSRS</th>\n",
       "      <th>team2_DSRS</th>\n",
       "      <th>team2_SRS</th>\n",
       "    </tr>\n",
       "  </thead>\n",
       "  <tbody>\n",
       "    <tr>\n",
       "      <th>0</th>\n",
       "      <td>0.0</td>\n",
       "      <td>2002-1104-1194</td>\n",
       "      <td>Florida Atlantic</td>\n",
       "      <td>2002</td>\n",
       "      <td>Alabama</td>\n",
       "      <td>1104.0</td>\n",
       "      <td>SEC (West)</td>\n",
       "      <td>27.0</td>\n",
       "      <td>8.0</td>\n",
       "      <td>75.9</td>\n",
       "      <td>...</td>\n",
       "      <td>A-Sun</td>\n",
       "      <td>19</td>\n",
       "      <td>12</td>\n",
       "      <td>74.3</td>\n",
       "      <td>72.1</td>\n",
       "      <td>2.19</td>\n",
       "      <td>-5.33</td>\n",
       "      <td>-0.44</td>\n",
       "      <td>-3.51</td>\n",
       "      <td>-3.95</td>\n",
       "    </tr>\n",
       "    <tr>\n",
       "      <th>1</th>\n",
       "      <td>1.0</td>\n",
       "      <td>2002-1108-1373</td>\n",
       "      <td>Siena</td>\n",
       "      <td>2002</td>\n",
       "      <td>Alcorn St.</td>\n",
       "      <td>1108.0</td>\n",
       "      <td>SWAC</td>\n",
       "      <td>21.0</td>\n",
       "      <td>10.0</td>\n",
       "      <td>79.8</td>\n",
       "      <td>...</td>\n",
       "      <td>MAAC</td>\n",
       "      <td>17</td>\n",
       "      <td>19</td>\n",
       "      <td>69.9</td>\n",
       "      <td>68.9</td>\n",
       "      <td>0.97</td>\n",
       "      <td>-3.71</td>\n",
       "      <td>-2.91</td>\n",
       "      <td>0.17</td>\n",
       "      <td>-2.74</td>\n",
       "    </tr>\n",
       "    <tr>\n",
       "      <th>2</th>\n",
       "      <td>27.0</td>\n",
       "      <td>2002-1268-1373</td>\n",
       "      <td>Siena</td>\n",
       "      <td>2002</td>\n",
       "      <td>Maryland</td>\n",
       "      <td>1268.0</td>\n",
       "      <td>ACC</td>\n",
       "      <td>32.0</td>\n",
       "      <td>4.0</td>\n",
       "      <td>85.0</td>\n",
       "      <td>...</td>\n",
       "      <td>MAAC</td>\n",
       "      <td>17</td>\n",
       "      <td>19</td>\n",
       "      <td>69.9</td>\n",
       "      <td>68.9</td>\n",
       "      <td>0.97</td>\n",
       "      <td>-3.71</td>\n",
       "      <td>-2.91</td>\n",
       "      <td>0.17</td>\n",
       "      <td>-2.74</td>\n",
       "    </tr>\n",
       "    <tr>\n",
       "      <th>3</th>\n",
       "      <td>2.0</td>\n",
       "      <td>2002-1112-1364</td>\n",
       "      <td>UC Santa Barbara</td>\n",
       "      <td>2002</td>\n",
       "      <td>Arizona</td>\n",
       "      <td>1112.0</td>\n",
       "      <td>Pac-10</td>\n",
       "      <td>24.0</td>\n",
       "      <td>10.0</td>\n",
       "      <td>82.1</td>\n",
       "      <td>...</td>\n",
       "      <td>Big West</td>\n",
       "      <td>20</td>\n",
       "      <td>11</td>\n",
       "      <td>66.6</td>\n",
       "      <td>60.9</td>\n",
       "      <td>5.71</td>\n",
       "      <td>-0.05</td>\n",
       "      <td>-1.81</td>\n",
       "      <td>7.36</td>\n",
       "      <td>5.55</td>\n",
       "    </tr>\n",
       "    <tr>\n",
       "      <th>4</th>\n",
       "      <td>3.0</td>\n",
       "      <td>2002-1150-1323</td>\n",
       "      <td>Notre Dame</td>\n",
       "      <td>2002</td>\n",
       "      <td>Charlotte</td>\n",
       "      <td>1150.0</td>\n",
       "      <td>CUSA (American)</td>\n",
       "      <td>18.0</td>\n",
       "      <td>12.0</td>\n",
       "      <td>73.5</td>\n",
       "      <td>...</td>\n",
       "      <td>Big East (West)</td>\n",
       "      <td>22</td>\n",
       "      <td>11</td>\n",
       "      <td>78.8</td>\n",
       "      <td>68.4</td>\n",
       "      <td>10.45</td>\n",
       "      <td>6.17</td>\n",
       "      <td>11.07</td>\n",
       "      <td>4.63</td>\n",
       "      <td>15.70</td>\n",
       "    </tr>\n",
       "  </tbody>\n",
       "</table>\n",
       "<p>5 rows × 145 columns</p>\n",
       "</div>"
      ],
      "text/plain": [
       "   Unnamed: 0_x         game_id    team2_teamname  Season team1_teamname  \\\n",
       "0           0.0  2002-1104-1194  Florida Atlantic    2002        Alabama   \n",
       "1           1.0  2002-1108-1373             Siena    2002     Alcorn St.   \n",
       "2          27.0  2002-1268-1373             Siena    2002       Maryland   \n",
       "3           2.0  2002-1112-1364  UC Santa Barbara    2002        Arizona   \n",
       "4           3.0  2002-1150-1323        Notre Dame    2002      Charlotte   \n",
       "\n",
       "   team1_id       team1_Conf  team1_W  team1_L  team1_Pts    ...      \\\n",
       "0    1104.0       SEC (West)     27.0      8.0       75.9    ...       \n",
       "1    1108.0             SWAC     21.0     10.0       79.8    ...       \n",
       "2    1268.0              ACC     32.0      4.0       85.0    ...       \n",
       "3    1112.0           Pac-10     24.0     10.0       82.1    ...       \n",
       "4    1150.0  CUSA (American)     18.0     12.0       73.5    ...       \n",
       "\n",
       "        team2_Conf  team2_W  team2_L  team2_Pts  team2_Opp  team2_MOV  \\\n",
       "0            A-Sun       19       12       74.3       72.1       2.19   \n",
       "1             MAAC       17       19       69.9       68.9       0.97   \n",
       "2             MAAC       17       19       69.9       68.9       0.97   \n",
       "3         Big West       20       11       66.6       60.9       5.71   \n",
       "4  Big East (West)       22       11       78.8       68.4      10.45   \n",
       "\n",
       "   team2_SOS  team2__OSRS  team2_DSRS  team2_SRS  \n",
       "0      -5.33        -0.44       -3.51      -3.95  \n",
       "1      -3.71        -2.91        0.17      -2.74  \n",
       "2      -3.71        -2.91        0.17      -2.74  \n",
       "3      -0.05        -1.81        7.36       5.55  \n",
       "4       6.17        11.07        4.63      15.70  \n",
       "\n",
       "[5 rows x 145 columns]"
      ]
     },
     "execution_count": 64,
     "metadata": {},
     "output_type": "execute_result"
    }
   ],
   "source": [
    "merged.head()"
   ]
  },
  {
   "cell_type": "code",
   "execution_count": 65,
   "metadata": {
    "collapsed": true
   },
   "outputs": [],
   "source": [
    "merged.to_csv('merged3.csv')"
   ]
  },
  {
   "cell_type": "code",
   "execution_count": null,
   "metadata": {
    "collapsed": true
   },
   "outputs": [],
   "source": []
  },
  {
   "cell_type": "code",
   "execution_count": null,
   "metadata": {
    "collapsed": true
   },
   "outputs": [],
   "source": []
  }
 ],
 "metadata": {
  "kernelspec": {
   "display_name": "Python 3",
   "language": "python",
   "name": "python3"
  },
  "language_info": {
   "codemirror_mode": {
    "name": "ipython",
    "version": 3
   },
   "file_extension": ".py",
   "mimetype": "text/x-python",
   "name": "python",
   "nbconvert_exporter": "python",
   "pygments_lexer": "ipython3",
   "version": "3.6.3"
  }
 },
 "nbformat": 4,
 "nbformat_minor": 2
}
