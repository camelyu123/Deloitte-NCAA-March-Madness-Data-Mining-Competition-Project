{
 "cells": [
  {
   "cell_type": "code",
   "execution_count": 76,
   "metadata": {},
   "outputs": [],
   "source": [
    "%matplotlib inline\n",
    "import matplotlib.pyplot as plt\n",
    "plt.style.use('ggplot')\n",
    "\n",
    "import numpy as np\n",
    "import pandas as pd\n",
    "from sklearn.cross_validation import train_test_split\n",
    "from sklearn.externals import joblib\n",
    "from sklearn.linear_model import LogisticRegression\n",
    "from sklearn.metrics import (auc, classification_report, roc_auc_score, accuracy_score,\n",
    "                             f1_score, log_loss, roc_curve, confusion_matrix, precision_score, recall_score)\n",
    "from sklearn.preprocessing import StandardScaler\n",
    "from math import sin, cos, sqrt, atan2, radians\n",
    "import random\n",
    "import statsmodels.api as sm\n",
    "import csv\n",
    "import sklearn\n",
    "import pandas as pd\n",
    "import numpy as np\n",
    "from __future__ import division\n",
    "import collections\n",
    "from sklearn.cross_validation import train_test_split\n",
    "from sklearn import svm\n",
    "from sklearn.svm import SVC\n",
    "from sklearn import linear_model\n",
    "from sklearn import tree\n",
    "from keras.models import Sequential\n",
    "from keras.layers import Convolution2D, MaxPooling2D, Convolution1D\n",
    "from keras.layers import Activation, Dropout, Flatten, Dense\n",
    "from keras.optimizers import SGD\n",
    "from sklearn.cross_validation import cross_val_score\n",
    "from keras.utils import np_utils\n",
    "from sklearn.neighbors import KNeighborsClassifier\n",
    "import matplotlib.pyplot as plt\n",
    "from sklearn.ensemble import RandomForestClassifier\n",
    "from sklearn.ensemble import AdaBoostClassifier\n",
    "from sklearn.ensemble import GradientBoostingClassifier\n",
    "import sys\n",
    "from sklearn.ensemble import GradientBoostingRegressor\n",
    "import math\n",
    "import csv\n",
    "import scipy\n",
    "%matplotlib inline\n",
    "from sklearn.ensemble import VotingClassifier\n",
    "from sklearn.metrics import classification_report\n",
    "import urllib"
   ]
  },
  {
   "cell_type": "code",
   "execution_count": 77,
   "metadata": {
    "collapsed": true
   },
   "outputs": [],
   "source": [
    "mm_data = pd.read_csv('2017DataforChartV2.csv')"
   ]
  },
  {
   "cell_type": "code",
   "execution_count": 78,
   "metadata": {},
   "outputs": [
    {
     "data": {
      "text/plain": [
       "Index(['game_id', 'Season', 'result', 'starplayer_difference',\n",
       "       'rpi_rating_difference', 'Log5', 'adjoe_difference', 'adjde_difference',\n",
       "       'EFG-OEEG', 'TPP-DTPP_difference', 'SRS_difference', 'SOS_difference',\n",
       "       'adjwin_difference', 'Hostwin_difference', 'coach_influence_difference',\n",
       "       'previous_performance_dif'],\n",
       "      dtype='object')"
      ]
     },
     "execution_count": 78,
     "metadata": {},
     "output_type": "execute_result"
    }
   ],
   "source": [
    "mm_data.columns"
   ]
  },
  {
   "cell_type": "code",
   "execution_count": 79,
   "metadata": {
    "collapsed": true
   },
   "outputs": [],
   "source": [
    "categories=[ 'starplayer_difference',\n",
    "       'rpi_rating_difference', 'Log5', 'adjoe_difference', 'adjde_difference',\n",
    "       'EFG-OEEG', 'TPP-DTPP_difference', 'SRS_difference', 'SOS_difference',\n",
    "       'adjwin_difference', 'Hostwin_difference', 'coach_influence_difference',\n",
    "       'previous_performance_dif']"
   ]
  },
  {
   "cell_type": "code",
   "execution_count": 80,
   "metadata": {
    "collapsed": true
   },
   "outputs": [],
   "source": [
    "def normalizeInput(arr):\n",
    "    for i in range(arr.shape[1]):\n",
    "        minVal = min(arr[:,i])\n",
    "        maxVal = max(arr[:,i])\n",
    "        arr[:,i] =  (arr[:,i] - minVal) / (maxVal - minVal)\n",
    "    return arr"
   ]
  },
  {
   "cell_type": "code",
   "execution_count": 81,
   "metadata": {
    "collapsed": true
   },
   "outputs": [],
   "source": [
    "mm_data['team1_win'] = mm_data['result']"
   ]
  },
  {
   "cell_type": "code",
   "execution_count": 82,
   "metadata": {
    "collapsed": true
   },
   "outputs": [],
   "source": [
    "def shuffle(df):     \n",
    "    df = df.reindex(np.random.permutation(df.index)).copy()\n",
    "    return df.reset_index(drop=True)"
   ]
  },
  {
   "cell_type": "code",
   "execution_count": 83,
   "metadata": {
    "collapsed": true
   },
   "outputs": [],
   "source": [
    "mm_data = shuffle(mm_data)"
   ]
  },
  {
   "cell_type": "code",
   "execution_count": 84,
   "metadata": {
    "collapsed": true
   },
   "outputs": [],
   "source": [
    "my_randoms = random.sample(range(len(mm_data)), len(mm_data)//2)"
   ]
  },
  {
   "cell_type": "code",
   "execution_count": 85,
   "metadata": {},
   "outputs": [
    {
     "data": {
      "text/plain": [
       "(33, 17)"
      ]
     },
     "execution_count": 85,
     "metadata": {},
     "output_type": "execute_result"
    }
   ],
   "source": [
    "mm_data[(~mm_data.index.isin(my_randoms))&(mm_data.Season==2010)].shape"
   ]
  },
  {
   "cell_type": "code",
   "execution_count": 86,
   "metadata": {
    "collapsed": true
   },
   "outputs": [],
   "source": [
    "mm_data_1 = mm_data[~mm_data.index.isin(my_randoms)][['game_id', 'Season', 'result', 'starplayer_difference',\n",
    "       'rpi_rating_difference', 'Log5', 'adjoe_difference', 'adjde_difference',\n",
    "       'EFG-OEEG', 'TPP-DTPP_difference', 'SRS_difference', 'SOS_difference',\n",
    "       'adjwin_difference', 'Hostwin_difference', 'coach_influence_difference',\n",
    "       'previous_performance_dif', 'team1_win']].reset_index(drop=True)\n",
    "mm_data_2 = mm_data[mm_data.index.isin(my_randoms)][['game_id', 'Season', 'result', 'starplayer_difference',\n",
    "       'rpi_rating_difference', 'Log5', 'adjoe_difference', 'adjde_difference',\n",
    "       'EFG-OEEG', 'TPP-DTPP_difference', 'SRS_difference', 'SOS_difference',\n",
    "       'adjwin_difference', 'Hostwin_difference', 'coach_influence_difference',\n",
    "       'previous_performance_dif','team1_win']].reset_index(drop=True)"
   ]
  },
  {
   "cell_type": "code",
   "execution_count": 87,
   "metadata": {
    "collapsed": true
   },
   "outputs": [],
   "source": [
    "mm_data_2['team1_win'] = mm_data_2['team1_win'].apply(lambda x: 1 if x==0 else 0)\n",
    "#mm_data_2['dif_distance'] = mm_data_2['dif_distance']*-1\n",
    "mm_data_2['Log5'] = 1-mm_data_2['Log5']\n",
    "mm_data_2['starplayer_difference'] = mm_data_2['starplayer_difference']*-1\n",
    "mm_data_2['adjoe_difference'] = mm_data_2['adjoe_difference']*-1\n",
    "mm_data_2['adjde_difference'] = mm_data_2['adjde_difference']*-1\n",
    "#mm_data['seed_difference'] = mm_data['seed_difference']*-1\n",
    "mm_data_2['EFG-OEEG'] = mm_data_2['EFG-OEEG']*-1\n",
    "mm_data_2['TPP-DTPP_difference'] = mm_data_2['TPP-DTPP_difference']*-1\n",
    "#mm_data_2['MOV_differerence'] = mm_data_2['MOV_differerence']*-1\n",
    "mm_data_2['SRS_difference'] = mm_data_2['SRS_difference']*-1\n",
    "mm_data_2['SOS_difference'] = mm_data_2['SOS_difference']*-1\n",
    "mm_data_2['adjwin_difference'] = mm_data_2['adjwin_difference']*-1\n",
    "mm_data_2['coach_influence_difference'] = mm_data_2['coach_influence_difference']*-1\n",
    "mm_data_2['Hostwin_difference'] = mm_data_2['Hostwin_difference']*-1\n",
    "#mm_data_2['coach_influence_differenceV2'] = mm_data_2['coach_influence_differenceV2']*-1\n",
    "\n",
    "mm_data_2.columns = ['game_id', 'Season', 'result', 'starplayer_difference',\n",
    "       'rpi_rating_difference', 'Log5', 'adjoe_difference', 'adjde_difference',\n",
    "       'EFG-OEEG', 'TPP-DTPP_difference', 'SRS_difference', 'SOS_difference',\n",
    "       'adjwin_difference', 'Hostwin_difference', 'coach_influence_difference',\n",
    "       'previous_performance_dif', 'team1_win']\n",
    "\n"
   ]
  },
  {
   "cell_type": "code",
   "execution_count": 88,
   "metadata": {
    "collapsed": true
   },
   "outputs": [],
   "source": [
    "mm_train = pd.concat([mm_data_2, mm_data_1])"
   ]
  },
  {
   "cell_type": "code",
   "execution_count": 89,
   "metadata": {
    "collapsed": true
   },
   "outputs": [],
   "source": [
    "allWins = mm_train[mm_train['team1_win'] == 1]"
   ]
  },
  {
   "cell_type": "code",
   "execution_count": 90,
   "metadata": {
    "collapsed": true
   },
   "outputs": [],
   "source": [
    "#plt.hist(allWins['MOV_differerence'], 100)"
   ]
  },
  {
   "cell_type": "code",
   "execution_count": 91,
   "metadata": {},
   "outputs": [
    {
     "name": "stdout",
     "output_type": "stream",
     "text": [
      "The mean of category starplayer_difference :  0.10091743119266056\n",
      "The mean of category rpi_rating_difference :  0.00043719549541284115\n",
      "The mean of category Log5 :  0.6437692512036703\n",
      "The mean of category adjoe_difference :  3.4907412844036685\n",
      "The mean of category adjde_difference :  2.8117220183486236\n",
      "The mean of category EFG-OEEG :  1.6384002272477054\n",
      "The mean of category TPP-DTPP_difference :  0.0045354503559633\n",
      "The mean of category SRS_difference :  6.4010825688073405\n",
      "The mean of category SOS_difference :  3.3660183486238537\n",
      "The mean of category adjwin_difference :  0.05676109144954129\n",
      "The mean of category Hostwin_difference :  0.1261069867981653\n",
      "The mean of category coach_influence_difference :  29.829358552610984\n",
      "The mean of category previous_performance_dif :  2.7211009174311926\n"
     ]
    }
   ],
   "source": [
    "for cat in categories:\n",
    "    print ('The mean of category', cat, ': ',(allWins[cat]).mean())"
   ]
  },
  {
   "cell_type": "code",
   "execution_count": 92,
   "metadata": {},
   "outputs": [
    {
     "name": "stdout",
     "output_type": "stream",
     "text": [
      "The Pearson correlation between the result and starplayer_difference is : (0.2173021581460485, 1.3646999766759487e-12)\n",
      "The Pearson correlation between the result and rpi_rating_difference is : (0.0059305825561498807, 0.84843216006513333)\n",
      "The Pearson correlation between the result and Log5 is : (0.52113682186163379, 1.5196032846228017e-73)\n",
      "The Pearson correlation between the result and adjoe_difference is : (0.4098274501726194, 1.9687695466263599e-43)\n",
      "The Pearson correlation between the result and adjde_difference is : (0.3814724822196725, 2.1303711750736102e-37)\n",
      "The Pearson correlation between the result and EFG-OEEG is : (0.30817687534896687, 2.4350640726692416e-24)\n",
      "The Pearson correlation between the result and TPP-DTPP_difference is : (0.1404371840414079, 5.4092786473404998e-06)\n",
      "The Pearson correlation between the result and SRS_difference is : (0.5434435926006953, 4.8495021621695904e-81)\n",
      "The Pearson correlation between the result and SOS_difference is : (0.47253017728714053, 5.1129949172274282e-59)\n",
      "The Pearson correlation between the result and adjwin_difference is : (0.37689925128168422, 1.7681343809846349e-36)\n",
      "The Pearson correlation between the result and Hostwin_difference is : (0.41918938309070553, 1.4794237901900909e-45)\n",
      "The Pearson correlation between the result and coach_influence_difference is : (0.35607630308797927, 1.7792469130721873e-32)\n",
      "The Pearson correlation between the result and previous_performance_dif is : (0.045770595830950979, 0.14000670809024257)\n"
     ]
    }
   ],
   "source": [
    "import scipy\n",
    "for cat in categories:\n",
    "    print ('The Pearson correlation between the result and', cat, \n",
    "           'is :',scipy.stats.pearsonr(mm_train[cat], mm_train['team1_win']))"
   ]
  },
  {
   "cell_type": "code",
   "execution_count": 93,
   "metadata": {
    "collapsed": true
   },
   "outputs": [],
   "source": [
    "normalize = mm_train.drop(['game_id', 'Season','result','team1_win'],axis=1)"
   ]
  },
  {
   "cell_type": "code",
   "execution_count": 94,
   "metadata": {
    "collapsed": true
   },
   "outputs": [],
   "source": [
    "normalize = sklearn.preprocessing.scale(normalize)"
   ]
  },
  {
   "cell_type": "code",
   "execution_count": 95,
   "metadata": {},
   "outputs": [
    {
     "data": {
      "text/plain": [
       "array([[ 2.00291294,  0.52398448,  1.51185687, ...,  0.34156308,\n",
       "        -0.14860068,  0.55632288],\n",
       "       [ 0.0057555 ,  0.0914626 ,  0.77490825, ...,  1.20607139,\n",
       "         0.09115922,  0.0052126 ],\n",
       "       [-1.99140195,  0.63681627,  0.17651117, ...,  0.23349954,\n",
       "        -0.41222064,  0.17478499],\n",
       "       ..., \n",
       "       [ 0.0057555 , -0.98043943, -0.95187746, ...,  1.04397608,\n",
       "        -0.13527801,  0.07586776],\n",
       "       [ 0.0057555 , -2.29681035, -0.66016224, ..., -0.67423419,\n",
       "        -1.73732918, -1.1535321 ],\n",
       "       [-1.99140195, -0.13420098, -0.61778905, ..., -0.47971982,\n",
       "        -0.27772688,  0.21717809]])"
      ]
     },
     "execution_count": 95,
     "metadata": {},
     "output_type": "execute_result"
    }
   ],
   "source": [
    "normalize"
   ]
  },
  {
   "cell_type": "code",
   "execution_count": 96,
   "metadata": {},
   "outputs": [
    {
     "name": "stdout",
     "output_type": "stream",
     "text": [
      "The mean of category starplayer_difference :  0.10091743119266056\n",
      "The mean of category rpi_rating_difference :  0.00043719549541284115\n",
      "The mean of category Log5 :  0.6437692512036703\n",
      "The mean of category adjoe_difference :  3.4907412844036685\n",
      "The mean of category adjde_difference :  2.8117220183486236\n",
      "The mean of category EFG-OEEG :  1.6384002272477054\n",
      "The mean of category TPP-DTPP_difference :  0.0045354503559633\n",
      "The mean of category SRS_difference :  6.4010825688073405\n",
      "The mean of category SOS_difference :  3.3660183486238537\n",
      "The mean of category adjwin_difference :  0.05676109144954129\n",
      "The mean of category Hostwin_difference :  0.1261069867981653\n",
      "The mean of category coach_influence_difference :  29.829358552610984\n",
      "The mean of category previous_performance_dif :  2.7211009174311926\n"
     ]
    }
   ],
   "source": [
    "for cat in categories:\n",
    "    print ('The mean of category', cat, ': ',(allWins[cat]).mean())"
   ]
  },
  {
   "cell_type": "code",
   "execution_count": 97,
   "metadata": {
    "collapsed": true
   },
   "outputs": [],
   "source": [
    "model4 = RandomForestClassifier(n_estimators=200)\n",
    "model2 = linear_model.BayesianRidge()\n",
    "model5 = AdaBoostClassifier(n_estimators=100)\n",
    "model = GradientBoostingRegressor(n_estimators=100)\n",
    "model3 = KNeighborsClassifier(n_neighbors=101)"
   ]
  },
  {
   "cell_type": "code",
   "execution_count": 98,
   "metadata": {
    "collapsed": true
   },
   "outputs": [],
   "source": [
    "def showFeatureImportance(my_categories):\n",
    "    fx_imp = pd.Series(model.feature_importances_, index=my_categories)\n",
    "    fx_imp /= fx_imp.max()\n",
    "    fx_imp.sort_index\n",
    "    fx_imp.plot(kind='barh')"
   ]
  },
  {
   "cell_type": "code",
   "execution_count": 99,
   "metadata": {
    "collapsed": true
   },
   "outputs": [],
   "source": [
    "np_data_X = mm_train.drop(['game_id', 'Season','result','team1_win'],axis=1)"
   ]
  },
  {
   "cell_type": "code",
   "execution_count": 100,
   "metadata": {},
   "outputs": [
    {
     "data": {
      "text/plain": [
       "Index(['starplayer_difference', 'rpi_rating_difference', 'Log5',\n",
       "       'adjoe_difference', 'adjde_difference', 'EFG-OEEG',\n",
       "       'TPP-DTPP_difference', 'SRS_difference', 'SOS_difference',\n",
       "       'adjwin_difference', 'Hostwin_difference', 'coach_influence_difference',\n",
       "       'previous_performance_dif'],\n",
       "      dtype='object')"
      ]
     },
     "execution_count": 100,
     "metadata": {},
     "output_type": "execute_result"
    }
   ],
   "source": [
    "np_data_X.columns"
   ]
  },
  {
   "cell_type": "code",
   "execution_count": 101,
   "metadata": {
    "collapsed": true
   },
   "outputs": [],
   "source": [
    "np_data_X = np.array(np_data_X)"
   ]
  },
  {
   "cell_type": "code",
   "execution_count": 102,
   "metadata": {},
   "outputs": [
    {
     "data": {
      "text/plain": [
       "array([  1.00000000e+00,   2.80000000e-02,   9.09963484e-01,\n",
       "         7.92000000e-01,   1.39894000e+01,   9.75666855e+00,\n",
       "         1.62000000e-02,   9.82000000e+00,  -4.36000000e+00,\n",
       "         3.11814672e-01,   1.11111111e-01,  -8.56752237e+00,\n",
       "         3.90000000e+01])"
      ]
     },
     "execution_count": 102,
     "metadata": {},
     "output_type": "execute_result"
    }
   ],
   "source": [
    "np_data_X[0]"
   ]
  },
  {
   "cell_type": "code",
   "execution_count": 103,
   "metadata": {},
   "outputs": [
    {
     "data": {
      "text/plain": [
       "(1041, 13)"
      ]
     },
     "execution_count": 103,
     "metadata": {},
     "output_type": "execute_result"
    }
   ],
   "source": [
    "np_data_X.shape"
   ]
  },
  {
   "cell_type": "code",
   "execution_count": 104,
   "metadata": {
    "collapsed": true
   },
   "outputs": [],
   "source": [
    "np_data_Y = mm_train['team1_win']"
   ]
  },
  {
   "cell_type": "code",
   "execution_count": 105,
   "metadata": {
    "collapsed": true
   },
   "outputs": [],
   "source": [
    "np_data_Y = np.array(np_data_Y)"
   ]
  },
  {
   "cell_type": "code",
   "execution_count": 106,
   "metadata": {},
   "outputs": [
    {
     "name": "stdout",
     "output_type": "stream",
     "text": [
      "The accuracy is 0.773946360153\n"
     ]
    }
   ],
   "source": [
    "categories=[ 'starplayer_difference', \n",
    "            'team1_rankdifference',\n",
    "        'team2_rank_difference', 'team1_rpi_rating', \n",
    "            'team2_rpi_rating',\n",
    "       'team1_seed', 'team2_seed', 'team1_adjoe', 'team1_adjde', \n",
    "            'team2_adjoe',\n",
    "       'team2_adjde', 'Log5', 'adjoe_difference', 'adjde_difference', \n",
    "       'team1_EFP-OEFG', 'team2_EFG-OEFG', 'EFG-OEEG', \n",
    "            'team1_TPP-DTPP',\n",
    "       'team2_TPP-OTPP', 'TPP-DTPP_difference', 'team1_MOV', \n",
    "            'team1_SOS_x',\n",
    "       'team1_SRS_x', 'team2_MOV', 'MOV_differerence', 'team2_SOS_x',\n",
    "       'team2_SRS_x', 'SRS_difference', 'SOS_difference', \n",
    "            'team2_adjwin',\n",
    "       'team2_hostwin', 'team1_adjwin', 'adjwin_difference', \n",
    "            'team1_hostwin',\n",
    "       'Hostwin_difference', 'tm1_coach_influence', \n",
    "            'tm2_coach_influence',]\n",
    "accuracy=[]\n",
    "totals=[]\n",
    "for i in range(1):\n",
    "    X_train, X_test, Y_train, Y_test = train_test_split(np_data_X, np_data_Y)\n",
    "    results1 = model.fit(X_train, Y_train)\n",
    "    preds1 = model.predict(X_test)\n",
    "    \n",
    "    results2 = model2.fit(X_train, Y_train)\n",
    "    preds2 = model2.predict(X_test)\n",
    "    \n",
    "    results3 = model3.fit(X_train, Y_train)\n",
    "    preds3 = model3.predict(X_test)\n",
    "\n",
    "    results4 = model4.fit(X_train, Y_train)\n",
    "    preds4 = model4.predict(X_test)\n",
    "    \n",
    "    results5 = model5.fit(X_train, Y_train)\n",
    "    preds5 = model5.predict(X_test)\n",
    "    \n",
    "    preds = (preds1 + preds2 + preds3 + preds4 + preds5)/5\n",
    "    totals.append(preds)\n",
    "    preds[preds < .5] = 0\n",
    "    preds[preds >= .5] = 1\n",
    "    accuracy.append(np.mean(preds == Y_test))\n",
    "    #accuracy.append(np.mean(predictions == Y_test))\n",
    "print (\"The accuracy is\", sum(accuracy)/len(accuracy))\n"
   ]
  },
  {
   "cell_type": "code",
   "execution_count": 107,
   "metadata": {},
   "outputs": [
    {
     "data": {
      "text/plain": [
       "array(['team2_adjde', 'team2_rank_difference', 'team1_TPP-DTPP',\n",
       "       'team1_adjwin', 'Log5'],\n",
       "      dtype='<U26')"
      ]
     },
     "execution_count": 107,
     "metadata": {},
     "output_type": "execute_result"
    }
   ],
   "source": [
    "categories=[ 'starplayer_difference', \n",
    "            'team1_rankdifference',\n",
    "        'team2_rank_difference', 'team1_rpi_rating', \n",
    "            'team2_rpi_rating',\n",
    "       'team1_seed', 'team2_seed', 'team1_adjoe', 'team1_adjde', \n",
    "            'team2_adjoe',\n",
    "       'team2_adjde', 'Log5', 'adjoe_difference', 'adjde_difference', \n",
    "       'team1_EFP-OEFG', 'team2_EFG-OEFG', 'EFG-OEEG', \n",
    "            'team1_TPP-DTPP',\n",
    "       'team2_TPP-OTPP', 'TPP-DTPP_difference', 'team1_MOV', \n",
    "            'team1_SOS_x',\n",
    "       'team1_SRS_x', 'team2_MOV', 'MOV_differerence', 'team2_SOS_x',\n",
    "       'team2_SRS_x', 'SRS_difference', 'SOS_difference', \n",
    "            'team2_adjwin',\n",
    "       'team2_hostwin', 'team1_adjwin', 'adjwin_difference', \n",
    "            'team1_hostwin',\n",
    "       'Hostwin_difference', 'tm1_coach_influence', \n",
    "            'tm2_coach_influence',\n",
    "       'coach_influence_difference']\n",
    "np.random.choice(categories,5, replace=False)"
   ]
  },
  {
   "cell_type": "code",
   "execution_count": 108,
   "metadata": {
    "collapsed": true
   },
   "outputs": [],
   "source": [
    "realCategories = ['Wins','PPG','PPGA','PowerConf','3PG', 'APG', 'Conference Champ', 'Tourney Conference Champ',\n",
    "            'Seed','SOS','SRS', 'Rebounds', 'Steals', 'Tourney Appearances','National Championships','Location']"
   ]
  },
  {
   "cell_type": "code",
   "execution_count": 109,
   "metadata": {
    "collapsed": true
   },
   "outputs": [],
   "source": [
    "mm_data_2017 = mm_train[(mm_train['Season'] >= 2015)].reset_index(drop=True)\n",
    "mm_data_else =  mm_train[mm_train['Season'] < 2015].reset_index(drop=True)"
   ]
  },
  {
   "cell_type": "code",
   "execution_count": 110,
   "metadata": {},
   "outputs": [
    {
     "data": {
      "text/plain": [
       "team1_win\n",
       "0    0.371325\n",
       "1    0.639464\n",
       "Name: Log5, dtype: float64"
      ]
     },
     "execution_count": 110,
     "metadata": {},
     "output_type": "execute_result"
    }
   ],
   "source": [
    "mm_data_else.groupby('team1_win')['Log5'].mean()"
   ]
  },
  {
   "cell_type": "code",
   "execution_count": 111,
   "metadata": {
    "scrolled": true
   },
   "outputs": [
    {
     "data": {
      "text/plain": [
       "LogisticRegression(C=1.0, class_weight=None, dual=False, fit_intercept=True,\n",
       "          intercept_scaling=1, max_iter=100, multi_class='ovr', n_jobs=1,\n",
       "          penalty='l2', random_state=None, solver='liblinear', tol=0.0001,\n",
       "          verbose=0, warm_start=False)"
      ]
     },
     "execution_count": 111,
     "metadata": {},
     "output_type": "execute_result"
    }
   ],
   "source": [
    "scaler = StandardScaler()\n",
    "mm_train_scaled = scaler.fit_transform(mm_data_else[['Log5']])\n",
    "logit = LogisticRegression()\n",
    "logit.fit(mm_train_scaled, mm_data_else['team1_win'])"
   ]
  },
  {
   "cell_type": "code",
   "execution_count": 112,
   "metadata": {},
   "outputs": [
    {
     "name": "stdout",
     "output_type": "stream",
     "text": [
      "Optimization terminated successfully.\n",
      "         Current function value: 0.656035\n",
      "         Iterations 4\n"
     ]
    },
    {
     "data": {
      "text/html": [
       "<table class=\"simpletable\">\n",
       "<caption>Logit Regression Results</caption>\n",
       "<tr>\n",
       "  <th>Dep. Variable:</th>     <td>team1_win</td>    <th>  No. Observations:  </th>  <td>   844</td> \n",
       "</tr>\n",
       "<tr>\n",
       "  <th>Model:</th>               <td>Logit</td>      <th>  Df Residuals:      </th>  <td>   843</td> \n",
       "</tr>\n",
       "<tr>\n",
       "  <th>Method:</th>               <td>MLE</td>       <th>  Df Model:          </th>  <td>     0</td> \n",
       "</tr>\n",
       "<tr>\n",
       "  <th>Date:</th>          <td>Wed, 01 Aug 2018</td> <th>  Pseudo R-squ.:     </th>  <td>0.05243</td>\n",
       "</tr>\n",
       "<tr>\n",
       "  <th>Time:</th>              <td>08:39:51</td>     <th>  Log-Likelihood:    </th> <td> -553.69</td>\n",
       "</tr>\n",
       "<tr>\n",
       "  <th>converged:</th>           <td>True</td>       <th>  LL-Null:           </th> <td> -584.33</td>\n",
       "</tr>\n",
       "<tr>\n",
       "  <th> </th>                      <td> </td>        <th>  LLR p-value:       </th>  <td>   nan</td> \n",
       "</tr>\n",
       "</table>\n",
       "<table class=\"simpletable\">\n",
       "<tr>\n",
       "    <td></td>      <th>coef</th>     <th>std err</th>      <th>z</th>      <th>P>|z|</th>  <th>[0.025</th>    <th>0.975]</th>  \n",
       "</tr>\n",
       "<tr>\n",
       "  <th>Log5</th> <td>    0.9826</td> <td>    0.128</td> <td>    7.662</td> <td> 0.000</td> <td>    0.731</td> <td>    1.234</td>\n",
       "</tr>\n",
       "</table>"
      ],
      "text/plain": [
       "<class 'statsmodels.iolib.summary.Summary'>\n",
       "\"\"\"\n",
       "                           Logit Regression Results                           \n",
       "==============================================================================\n",
       "Dep. Variable:              team1_win   No. Observations:                  844\n",
       "Model:                          Logit   Df Residuals:                      843\n",
       "Method:                           MLE   Df Model:                            0\n",
       "Date:                Wed, 01 Aug 2018   Pseudo R-squ.:                 0.05243\n",
       "Time:                        08:39:51   Log-Likelihood:                -553.69\n",
       "converged:                       True   LL-Null:                       -584.33\n",
       "                                        LLR p-value:                       nan\n",
       "==============================================================================\n",
       "                 coef    std err          z      P>|z|      [0.025      0.975]\n",
       "------------------------------------------------------------------------------\n",
       "Log5           0.9826      0.128      7.662      0.000       0.731       1.234\n",
       "==============================================================================\n",
       "\"\"\""
      ]
     },
     "execution_count": 112,
     "metadata": {},
     "output_type": "execute_result"
    }
   ],
   "source": [
    "smlogit = sm.Logit(mm_data_else['team1_win'], mm_data_else['Log5']).fit()\n",
    "smlogit.summary()"
   ]
  },
  {
   "cell_type": "code",
   "execution_count": 113,
   "metadata": {
    "collapsed": true
   },
   "outputs": [],
   "source": [
    "mm_data_2017['preds'] = logit.predict_proba(scaler.fit_transform(mm_data_2017[['Log5']]))[:,1]"
   ]
  },
  {
   "cell_type": "code",
   "execution_count": 114,
   "metadata": {},
   "outputs": [
    {
     "data": {
      "text/plain": [
       "0    0.735033\n",
       "1    0.570591\n",
       "2    0.130343\n",
       "3    0.719711\n",
       "4    0.109171\n",
       "Name: preds, dtype: float64"
      ]
     },
     "execution_count": 114,
     "metadata": {},
     "output_type": "execute_result"
    }
   ],
   "source": [
    "mm_data_2017['preds'].head()"
   ]
  },
  {
   "cell_type": "code",
   "execution_count": 115,
   "metadata": {
    "collapsed": true
   },
   "outputs": [],
   "source": [
    "mm_data_2017['prediction'] = logit.predict(scaler.fit_transform(mm_data_2017[['Log5']]))"
   ]
  },
  {
   "cell_type": "code",
   "execution_count": 116,
   "metadata": {},
   "outputs": [
    {
     "data": {
      "text/plain": [
       "0    1\n",
       "1    1\n",
       "2    0\n",
       "3    1\n",
       "4    0\n",
       "Name: prediction, dtype: int64"
      ]
     },
     "execution_count": 116,
     "metadata": {},
     "output_type": "execute_result"
    }
   ],
   "source": [
    "mm_data_2017['prediction'].head()"
   ]
  },
  {
   "cell_type": "code",
   "execution_count": 117,
   "metadata": {},
   "outputs": [
    {
     "data": {
      "text/html": [
       "<div>\n",
       "<style>\n",
       "    .dataframe thead tr:only-child th {\n",
       "        text-align: right;\n",
       "    }\n",
       "\n",
       "    .dataframe thead th {\n",
       "        text-align: left;\n",
       "    }\n",
       "\n",
       "    .dataframe tbody tr th {\n",
       "        vertical-align: top;\n",
       "    }\n",
       "</style>\n",
       "<table border=\"1\" class=\"dataframe\">\n",
       "  <thead>\n",
       "    <tr style=\"text-align: right;\">\n",
       "      <th></th>\n",
       "      <th>team1_win</th>\n",
       "      <th>preds</th>\n",
       "      <th>prediction</th>\n",
       "    </tr>\n",
       "  </thead>\n",
       "  <tbody>\n",
       "    <tr>\n",
       "      <th>0</th>\n",
       "      <td>1</td>\n",
       "      <td>0.735033</td>\n",
       "      <td>1</td>\n",
       "    </tr>\n",
       "    <tr>\n",
       "      <th>1</th>\n",
       "      <td>0</td>\n",
       "      <td>0.570591</td>\n",
       "      <td>1</td>\n",
       "    </tr>\n",
       "    <tr>\n",
       "      <th>2</th>\n",
       "      <td>0</td>\n",
       "      <td>0.130343</td>\n",
       "      <td>0</td>\n",
       "    </tr>\n",
       "    <tr>\n",
       "      <th>3</th>\n",
       "      <td>0</td>\n",
       "      <td>0.719711</td>\n",
       "      <td>1</td>\n",
       "    </tr>\n",
       "    <tr>\n",
       "      <th>4</th>\n",
       "      <td>0</td>\n",
       "      <td>0.109171</td>\n",
       "      <td>0</td>\n",
       "    </tr>\n",
       "  </tbody>\n",
       "</table>\n",
       "</div>"
      ],
      "text/plain": [
       "   team1_win     preds  prediction\n",
       "0          1  0.735033           1\n",
       "1          0  0.570591           1\n",
       "2          0  0.130343           0\n",
       "3          0  0.719711           1\n",
       "4          0  0.109171           0"
      ]
     },
     "execution_count": 117,
     "metadata": {},
     "output_type": "execute_result"
    }
   ],
   "source": [
    "mm_data_2017[['team1_win','preds','prediction']].head()"
   ]
  },
  {
   "cell_type": "code",
   "execution_count": 118,
   "metadata": {},
   "outputs": [
    {
     "data": {
      "text/plain": [
       "team1_win\n",
       "0    0.371549\n",
       "1    0.649797\n",
       "Name: preds, dtype: float64"
      ]
     },
     "execution_count": 118,
     "metadata": {},
     "output_type": "execute_result"
    }
   ],
   "source": [
    "mm_data_2017.groupby('team1_win')['preds'].mean()"
   ]
  },
  {
   "cell_type": "code",
   "execution_count": 119,
   "metadata": {},
   "outputs": [
    {
     "data": {
      "text/plain": [
       "<matplotlib.axes._subplots.AxesSubplot at 0x224e6e2bd30>"
      ]
     },
     "execution_count": 119,
     "metadata": {},
     "output_type": "execute_result"
    },
    {
     "data": {
      "image/png": "[encoded data removed]",
      "text/plain": [
       "<matplotlib.figure.Figure at 0x224e6e2b320>"
      ]
     },
     "metadata": {},
     "output_type": "display_data"
    }
   ],
   "source": [
    "mm_data_2017.plot(kind='scatter', x='preds',y='Log5')"
   ]
  },
  {
   "cell_type": "code",
   "execution_count": 120,
   "metadata": {},
   "outputs": [
    {
     "data": {
      "text/plain": [
       "array([[68, 23],\n",
       "       [31, 75]], dtype=int64)"
      ]
     },
     "execution_count": 120,
     "metadata": {},
     "output_type": "execute_result"
    }
   ],
   "source": [
    "confusion_matrix(mm_data_2017['team1_win'], mm_data_2017['prediction'])"
   ]
  },
  {
   "cell_type": "code",
   "execution_count": 121,
   "metadata": {},
   "outputs": [
    {
     "data": {
      "text/plain": [
       "0.7258883248730964"
      ]
     },
     "execution_count": 121,
     "metadata": {},
     "output_type": "execute_result"
    }
   ],
   "source": [
    "accuracy_score(mm_data_2017['team1_win'], mm_data_2017['prediction'],)"
   ]
  },
  {
   "cell_type": "code",
   "execution_count": 122,
   "metadata": {},
   "outputs": [
    {
     "data": {
      "text/plain": [
       "0.76530612244897955"
      ]
     },
     "execution_count": 122,
     "metadata": {},
     "output_type": "execute_result"
    }
   ],
   "source": [
    "precision_score(mm_data_2017['team1_win'], mm_data_2017['prediction'])"
   ]
  },
  {
   "cell_type": "code",
   "execution_count": 123,
   "metadata": {},
   "outputs": [
    {
     "data": {
      "text/plain": [
       "0.70754716981132071"
      ]
     },
     "execution_count": 123,
     "metadata": {},
     "output_type": "execute_result"
    }
   ],
   "source": [
    "recall_score(mm_data_2017['team1_win'], mm_data_2017['prediction'])"
   ]
  },
  {
   "cell_type": "code",
   "execution_count": 124,
   "metadata": {},
   "outputs": [
    {
     "data": {
      "text/plain": [
       "0.73529411764705888"
      ]
     },
     "execution_count": 124,
     "metadata": {},
     "output_type": "execute_result"
    }
   ],
   "source": [
    "f1_score(mm_data_2017['team1_win'], mm_data_2017['prediction'])"
   ]
  },
  {
   "cell_type": "code",
   "execution_count": 125,
   "metadata": {},
   "outputs": [
    {
     "data": {
      "text/plain": [
       "0.52717609623604977"
      ]
     },
     "execution_count": 125,
     "metadata": {},
     "output_type": "execute_result"
    }
   ],
   "source": [
    "log_loss(mm_data_2017['team1_win'].values, mm_data_2017['preds'].values)"
   ]
  },
  {
   "cell_type": "code",
   "execution_count": 126,
   "metadata": {},
   "outputs": [
    {
     "data": {
      "text/plain": [
       "LogisticRegression(C=1.0, class_weight=None, dual=False, fit_intercept=True,\n",
       "          intercept_scaling=1, max_iter=100, multi_class='ovr', n_jobs=1,\n",
       "          penalty='l2', random_state=None, solver='liblinear', tol=0.0001,\n",
       "          verbose=0, warm_start=False)"
      ]
     },
     "execution_count": 126,
     "metadata": {},
     "output_type": "execute_result"
    }
   ],
   "source": [
    "scaler = StandardScaler()\n",
    "mm_train_scaled = scaler.fit_transform(mm_data_else[['starplayer_difference', \n",
    "       'Log5', 'adjoe_difference', 'adjde_difference', \n",
    "        'EFG-OEEG', 'TPP-DTPP_difference',\n",
    "        'SRS_difference', 'SOS_difference', 'adjwin_difference', \n",
    "       'Hostwin_difference']])\n",
    "logit = LogisticRegression()\n",
    "logit.fit(mm_train_scaled, mm_data_else['team1_win'])"
   ]
  },
  {
   "cell_type": "code",
   "execution_count": 127,
   "metadata": {},
   "outputs": [
    {
     "name": "stdout",
     "output_type": "stream",
     "text": [
      "Optimization terminated successfully.\n",
      "         Current function value: 0.417297\n",
      "         Iterations 7\n"
     ]
    },
    {
     "data": {
      "text/html": [
       "<table class=\"simpletable\">\n",
       "<caption>Logit Regression Results</caption>\n",
       "<tr>\n",
       "  <th>Dep. Variable:</th>     <td>team1_win</td>    <th>  No. Observations:  </th>  <td>   844</td>  \n",
       "</tr>\n",
       "<tr>\n",
       "  <th>Model:</th>               <td>Logit</td>      <th>  Df Residuals:      </th>  <td>   834</td>  \n",
       "</tr>\n",
       "<tr>\n",
       "  <th>Method:</th>               <td>MLE</td>       <th>  Df Model:          </th>  <td>     9</td>  \n",
       "</tr>\n",
       "<tr>\n",
       "  <th>Date:</th>          <td>Wed, 01 Aug 2018</td> <th>  Pseudo R-squ.:     </th>  <td>0.3973</td>  \n",
       "</tr>\n",
       "<tr>\n",
       "  <th>Time:</th>              <td>08:40:09</td>     <th>  Log-Likelihood:    </th> <td> -352.20</td> \n",
       "</tr>\n",
       "<tr>\n",
       "  <th>converged:</th>           <td>True</td>       <th>  LL-Null:           </th> <td> -584.33</td> \n",
       "</tr>\n",
       "<tr>\n",
       "  <th> </th>                      <td> </td>        <th>  LLR p-value:       </th> <td>2.553e-94</td>\n",
       "</tr>\n",
       "</table>\n",
       "<table class=\"simpletable\">\n",
       "<tr>\n",
       "            <td></td>               <th>coef</th>     <th>std err</th>      <th>z</th>      <th>P>|z|</th>  <th>[0.025</th>    <th>0.975]</th>  \n",
       "</tr>\n",
       "<tr>\n",
       "  <th>starplayer_difference</th> <td>    0.5913</td> <td>    0.211</td> <td>    2.798</td> <td> 0.005</td> <td>    0.177</td> <td>    1.005</td>\n",
       "</tr>\n",
       "<tr>\n",
       "  <th>Log5</th>                  <td>    0.1154</td> <td>    0.188</td> <td>    0.614</td> <td> 0.539</td> <td>   -0.253</td> <td>    0.483</td>\n",
       "</tr>\n",
       "<tr>\n",
       "  <th>adjoe_difference</th>      <td>   -0.1252</td> <td>    0.037</td> <td>   -3.412</td> <td> 0.001</td> <td>   -0.197</td> <td>   -0.053</td>\n",
       "</tr>\n",
       "<tr>\n",
       "  <th>adjde_difference</th>      <td>   -0.1211</td> <td>    0.039</td> <td>   -3.072</td> <td> 0.002</td> <td>   -0.198</td> <td>   -0.044</td>\n",
       "</tr>\n",
       "<tr>\n",
       "  <th>EFG-OEEG</th>              <td>    0.0727</td> <td>    0.034</td> <td>    2.125</td> <td> 0.034</td> <td>    0.006</td> <td>    0.140</td>\n",
       "</tr>\n",
       "<tr>\n",
       "  <th>TPP-DTPP_difference</th>   <td>    5.1016</td> <td>    3.845</td> <td>    1.327</td> <td> 0.185</td> <td>   -2.435</td> <td>   12.638</td>\n",
       "</tr>\n",
       "<tr>\n",
       "  <th>SRS_difference</th>        <td>    0.0321</td> <td>    0.045</td> <td>    0.715</td> <td> 0.475</td> <td>   -0.056</td> <td>    0.120</td>\n",
       "</tr>\n",
       "<tr>\n",
       "  <th>SOS_difference</th>        <td>    0.3465</td> <td>    0.053</td> <td>    6.529</td> <td> 0.000</td> <td>    0.242</td> <td>    0.450</td>\n",
       "</tr>\n",
       "<tr>\n",
       "  <th>adjwin_difference</th>     <td>    7.4764</td> <td>    1.361</td> <td>    5.491</td> <td> 0.000</td> <td>    4.808</td> <td>   10.145</td>\n",
       "</tr>\n",
       "<tr>\n",
       "  <th>Hostwin_difference</th>    <td>    4.0313</td> <td>    0.548</td> <td>    7.357</td> <td> 0.000</td> <td>    2.957</td> <td>    5.105</td>\n",
       "</tr>\n",
       "</table>"
      ],
      "text/plain": [
       "<class 'statsmodels.iolib.summary.Summary'>\n",
       "\"\"\"\n",
       "                           Logit Regression Results                           \n",
       "==============================================================================\n",
       "Dep. Variable:              team1_win   No. Observations:                  844\n",
       "Model:                          Logit   Df Residuals:                      834\n",
       "Method:                           MLE   Df Model:                            9\n",
       "Date:                Wed, 01 Aug 2018   Pseudo R-squ.:                  0.3973\n",
       "Time:                        08:40:09   Log-Likelihood:                -352.20\n",
       "converged:                       True   LL-Null:                       -584.33\n",
       "                                        LLR p-value:                 2.553e-94\n",
       "=========================================================================================\n",
       "                            coef    std err          z      P>|z|      [0.025      0.975]\n",
       "-----------------------------------------------------------------------------------------\n",
       "starplayer_difference     0.5913      0.211      2.798      0.005       0.177       1.005\n",
       "Log5                      0.1154      0.188      0.614      0.539      -0.253       0.483\n",
       "adjoe_difference         -0.1252      0.037     -3.412      0.001      -0.197      -0.053\n",
       "adjde_difference         -0.1211      0.039     -3.072      0.002      -0.198      -0.044\n",
       "EFG-OEEG                  0.0727      0.034      2.125      0.034       0.006       0.140\n",
       "TPP-DTPP_difference       5.1016      3.845      1.327      0.185      -2.435      12.638\n",
       "SRS_difference            0.0321      0.045      0.715      0.475      -0.056       0.120\n",
       "SOS_difference            0.3465      0.053      6.529      0.000       0.242       0.450\n",
       "adjwin_difference         7.4764      1.361      5.491      0.000       4.808      10.145\n",
       "Hostwin_difference        4.0313      0.548      7.357      0.000       2.957       5.105\n",
       "=========================================================================================\n",
       "\"\"\""
      ]
     },
     "execution_count": 127,
     "metadata": {},
     "output_type": "execute_result"
    }
   ],
   "source": [
    "smlogit = sm.Logit(mm_data_else['team1_win'], mm_data_else[['starplayer_difference', \n",
    "       'Log5', 'adjoe_difference', 'adjde_difference', \n",
    "        'EFG-OEEG', 'TPP-DTPP_difference', \n",
    "        'SRS_difference', 'SOS_difference', 'adjwin_difference', \n",
    "       'Hostwin_difference']]).fit()\n",
    "smlogit.summary()"
   ]
  },
  {
   "cell_type": "code",
   "execution_count": 128,
   "metadata": {
    "collapsed": true
   },
   "outputs": [],
   "source": [
    "#mm_data_2018 = pd.read_csv('2018Selected.csv')"
   ]
  },
  {
   "cell_type": "code",
   "execution_count": 129,
   "metadata": {
    "collapsed": true
   },
   "outputs": [],
   "source": [
    "#mm_data_2018.describe()"
   ]
  },
  {
   "cell_type": "code",
   "execution_count": 130,
   "metadata": {
    "collapsed": true
   },
   "outputs": [],
   "source": [
    "#mm_data_2018['preds'] = logit.predict_proba(scaler.fit_transform(mm_data_2018[['starplayer_difference', \n",
    "#       'Log5', 'adjoe_difference', 'adjde_difference', \n",
    "#        'EFG-OEEG', 'TPP-DTPP_difference', 'MOV_differerence',\n",
    "#        'SRS_difference', 'SOS_difference', 'adjwin_difference', \n",
    "#       'Hostwin_difference']]))[:,1]"
   ]
  },
  {
   "cell_type": "code",
   "execution_count": 131,
   "metadata": {
    "collapsed": true
   },
   "outputs": [],
   "source": [
    "mm_data_2017['preds'] = logit.predict_proba(scaler.fit_transform(mm_data_2017[['starplayer_difference', \n",
    "       'Log5', 'adjoe_difference', 'adjde_difference', \n",
    "        'EFG-OEEG', 'TPP-DTPP_difference', \n",
    "        'SRS_difference', 'SOS_difference', 'adjwin_difference', \n",
    "       'Hostwin_difference']]))[:,1]"
   ]
  },
  {
   "cell_type": "code",
   "execution_count": 132,
   "metadata": {},
   "outputs": [
    {
     "data": {
      "text/plain": [
       "0    0.899855\n",
       "1    0.169064\n",
       "2    0.058391\n",
       "3    0.422919\n",
       "4    0.020023\n",
       "Name: preds, dtype: float64"
      ]
     },
     "execution_count": 132,
     "metadata": {},
     "output_type": "execute_result"
    }
   ],
   "source": [
    "mm_data_2017['preds'].head()"
   ]
  },
  {
   "cell_type": "code",
   "execution_count": 133,
   "metadata": {
    "collapsed": true
   },
   "outputs": [],
   "source": [
    "#mm_data_2018.to_csv('2018Prediction.csv')"
   ]
  },
  {
   "cell_type": "code",
   "execution_count": 134,
   "metadata": {
    "collapsed": true
   },
   "outputs": [],
   "source": [
    "mm_data_2017['prediction'] = logit.predict(scaler.fit_transform(mm_data_2017[['starplayer_difference', \n",
    "       'Log5', 'adjoe_difference', 'adjde_difference', \n",
    "        'EFG-OEEG', 'TPP-DTPP_difference', \n",
    "        'SRS_difference', 'SOS_difference', 'adjwin_difference', \n",
    "       'Hostwin_difference']]))"
   ]
  },
  {
   "cell_type": "code",
   "execution_count": 135,
   "metadata": {},
   "outputs": [
    {
     "data": {
      "text/html": [
       "<div>\n",
       "<style>\n",
       "    .dataframe thead tr:only-child th {\n",
       "        text-align: right;\n",
       "    }\n",
       "\n",
       "    .dataframe thead th {\n",
       "        text-align: left;\n",
       "    }\n",
       "\n",
       "    .dataframe tbody tr th {\n",
       "        vertical-align: top;\n",
       "    }\n",
       "</style>\n",
       "<table border=\"1\" class=\"dataframe\">\n",
       "  <thead>\n",
       "    <tr style=\"text-align: right;\">\n",
       "      <th></th>\n",
       "      <th>team1_win</th>\n",
       "      <th>preds</th>\n",
       "      <th>prediction</th>\n",
       "    </tr>\n",
       "  </thead>\n",
       "  <tbody>\n",
       "    <tr>\n",
       "      <th>0</th>\n",
       "      <td>1</td>\n",
       "      <td>0.899855</td>\n",
       "      <td>1</td>\n",
       "    </tr>\n",
       "    <tr>\n",
       "      <th>1</th>\n",
       "      <td>0</td>\n",
       "      <td>0.169064</td>\n",
       "      <td>0</td>\n",
       "    </tr>\n",
       "    <tr>\n",
       "      <th>2</th>\n",
       "      <td>0</td>\n",
       "      <td>0.058391</td>\n",
       "      <td>0</td>\n",
       "    </tr>\n",
       "    <tr>\n",
       "      <th>3</th>\n",
       "      <td>0</td>\n",
       "      <td>0.422919</td>\n",
       "      <td>0</td>\n",
       "    </tr>\n",
       "    <tr>\n",
       "      <th>4</th>\n",
       "      <td>0</td>\n",
       "      <td>0.020023</td>\n",
       "      <td>0</td>\n",
       "    </tr>\n",
       "  </tbody>\n",
       "</table>\n",
       "</div>"
      ],
      "text/plain": [
       "   team1_win     preds  prediction\n",
       "0          1  0.899855           1\n",
       "1          0  0.169064           0\n",
       "2          0  0.058391           0\n",
       "3          0  0.422919           0\n",
       "4          0  0.020023           0"
      ]
     },
     "execution_count": 135,
     "metadata": {},
     "output_type": "execute_result"
    }
   ],
   "source": [
    "mm_data_2017[['team1_win','preds','prediction']].head()"
   ]
  },
  {
   "cell_type": "code",
   "execution_count": 136,
   "metadata": {},
   "outputs": [
    {
     "data": {
      "text/plain": [
       "0.79695431472081213"
      ]
     },
     "execution_count": 136,
     "metadata": {},
     "output_type": "execute_result"
    }
   ],
   "source": [
    "accuracy_score(mm_data_2017['team1_win'], mm_data_2017['prediction'],)"
   ]
  },
  {
   "cell_type": "code",
   "execution_count": 137,
   "metadata": {},
   "outputs": [
    {
     "data": {
      "text/plain": [
       "0.82352941176470584"
      ]
     },
     "execution_count": 137,
     "metadata": {},
     "output_type": "execute_result"
    }
   ],
   "source": [
    "precision_score(mm_data_2017['team1_win'], mm_data_2017['prediction'])"
   ]
  },
  {
   "cell_type": "code",
   "execution_count": 138,
   "metadata": {},
   "outputs": [
    {
     "data": {
      "text/plain": [
       "0.79245283018867929"
      ]
     },
     "execution_count": 138,
     "metadata": {},
     "output_type": "execute_result"
    }
   ],
   "source": [
    "recall_score(mm_data_2017['team1_win'], mm_data_2017['prediction'])"
   ]
  },
  {
   "cell_type": "code",
   "execution_count": 139,
   "metadata": {},
   "outputs": [
    {
     "data": {
      "text/plain": [
       "0.80769230769230771"
      ]
     },
     "execution_count": 139,
     "metadata": {},
     "output_type": "execute_result"
    }
   ],
   "source": [
    "f1_score(mm_data_2017['team1_win'], mm_data_2017['prediction'])"
   ]
  },
  {
   "cell_type": "code",
   "execution_count": 140,
   "metadata": {},
   "outputs": [
    {
     "data": {
      "text/plain": [
       "0.45842885356765767"
      ]
     },
     "execution_count": 140,
     "metadata": {},
     "output_type": "execute_result"
    }
   ],
   "source": [
    "log_loss(mm_data_2017['team1_win'].values, mm_data_2017['preds'].values)"
   ]
  },
  {
   "cell_type": "code",
   "execution_count": 141,
   "metadata": {
    "collapsed": true
   },
   "outputs": [],
   "source": [
    "def plot_roc(fpr, tpr, roc_auc):\n",
    "    \"\"\"Plots the ROC curve for the win probability model along with\n",
    "    the AUC.\n",
    "    \"\"\"\n",
    "    fig, ax = plt.subplots()\n",
    "    ax.set(title='Receiver Operating Characteristic',\n",
    "           xlim=[0, 1], ylim=[0, 1], xlabel='False Positive Rate',\n",
    "           ylabel='True Positive Rate')\n",
    "    ax.plot(fpr, tpr, 'b', label='AUC = %0.2f' % roc_auc)\n",
    "    ax.plot([0, 1], [0, 1], 'k--')\n",
    "    ax.legend(loc='lower right')"
   ]
  },
  {
   "cell_type": "code",
   "execution_count": 142,
   "metadata": {},
   "outputs": [
    {
     "data": {
      "image/png": "[encoded data removed]",
      "text/plain": [
       "<matplotlib.figure.Figure at 0x224e6e98400>"
      ]
     },
     "metadata": {},
     "output_type": "display_data"
    }
   ],
   "source": [
    "fpr, tpr, thresholds = roc_curve(mm_data_2017['team1_win'].values, mm_data_2017['preds'].values)\n",
    "roc_auc = auc(fpr, tpr)\n",
    "plot_roc(fpr, tpr, roc_auc)"
   ]
  },
  {
   "cell_type": "code",
   "execution_count": 143,
   "metadata": {},
   "outputs": [
    {
     "data": {
      "text/plain": [
       "0.86533278042712003"
      ]
     },
     "execution_count": 143,
     "metadata": {},
     "output_type": "execute_result"
    }
   ],
   "source": [
    "roc_auc_score(mm_data_2017['team1_win'].values, mm_data_2017['preds'].values)"
   ]
  },
  {
   "cell_type": "code",
   "execution_count": 75,
   "metadata": {
    "collapsed": true
   },
   "outputs": [],
   "source": [
    "mm_data.to_csv('final.csv')"
   ]
  },
  {
   "cell_type": "code",
   "execution_count": null,
   "metadata": {
    "collapsed": true
   },
   "outputs": [],
   "source": []
  }
 ],
 "metadata": {
  "kernelspec": {
   "display_name": "Python 3",
   "language": "python",
   "name": "python3"
  },
  "language_info": {
   "codemirror_mode": {
    "name": "ipython",
    "version": 3
   },
   "file_extension": ".py",
   "mimetype": "text/x-python",
   "name": "python",
   "nbconvert_exporter": "python",
   "pygments_lexer": "ipython3",
   "version": "3.6.3"
  }
 },
 "nbformat": 4,
 "nbformat_minor": 2
}
